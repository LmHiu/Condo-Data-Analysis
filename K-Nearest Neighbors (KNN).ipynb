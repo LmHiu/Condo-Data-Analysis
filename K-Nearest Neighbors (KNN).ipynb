{
 "cells": [
  {
   "cell_type": "code",
   "execution_count": 68,
   "id": "c25c827f-f753-4118-ad26-463e87510f2b",
   "metadata": {},
   "outputs": [
    {
     "name": "stdout",
     "output_type": "stream",
     "text": [
      "        location rooms  sqm_m2  price_normalized  trieu_met_vuong  \\\n",
      "0     Binh Chanh  1 PN      38             760.0            20.00   \n",
      "1     Binh Chanh  2 PN      72            2780.0            38.61   \n",
      "2     Binh Chanh  2 PN      72            2750.0            38.19   \n",
      "3     Binh Chanh  2 PN      72            2249.0            31.24   \n",
      "4     Binh Chanh  2 PN      70            2800.0            40.00   \n",
      "...          ...   ...     ...               ...              ...   \n",
      "1846     Thu Duc  2 PN      53            2399.0            45.70   \n",
      "1847     Thu Duc  2 PN      52            1600.0            30.77   \n",
      "1848     Thu Duc  2 PN      52             490.0             9.42   \n",
      "1849     Thu Duc  2 PN      51            1700.0            33.33   \n",
      "1850     Thu Duc  2 PN      57            1650.0            28.95   \n",
      "\n",
      "      rooms_normalized  \n",
      "0                    1  \n",
      "1                    2  \n",
      "2                    2  \n",
      "3                    2  \n",
      "4                    2  \n",
      "...                ...  \n",
      "1846                 2  \n",
      "1847                 2  \n",
      "1848                 2  \n",
      "1849                 2  \n",
      "1850                 2  \n",
      "\n",
      "[1851 rows x 6 columns]\n"
     ]
    }
   ],
   "source": [
    "import pandas as pd\n",
    "from sklearn.neighbors import KNeighborsRegressor\n",
    "from sklearn.preprocessing import LabelEncoder\n",
    "\n",
    "df = pd.read_csv('dataProcessed.csv')\n",
    "print(df)"
   ]
  },
  {
   "cell_type": "markdown",
   "id": "8d59122c-bb9e-470c-a4ac-f4cf7eb42347",
   "metadata": {},
   "source": [
    "Dự đoán giá nhà theo khoảng\n",
    "vì dữ liệu không có khoảng giá cụ thể nên sẽ tạo khoảng bằng các khoảng giá\n",
    "dưới 5 tỷ = affordable apartmen\n",
    "từ 5 tỷ đến 10 tỷ = mid-range apartment\n",
    "trên 10 tỷ = luxury apartment\n",
    "sau đó sẽ thêm 1 cột vào dữ liệu để có thể huấn luyện dữ liệu"
   ]
  },
  {
   "cell_type": "markdown",
   "id": "264bdcdd-db33-431b-8c4f-17b872733a05",
   "metadata": {},
   "source": [
    "KNN không thể làm việc trực tiếp với dữ liệu dạng chuỗi (string), nên cần chuyển đổi các giá trị này thành dạng số (integer) cho giá trị location và giá trị classify"
   ]
  },
  {
   "cell_type": "code",
   "execution_count": 63,
   "id": "bd245ea0-f0fc-4d3a-8ce7-28ecb544688d",
   "metadata": {},
   "outputs": [
    {
     "name": "stdout",
     "output_type": "stream",
     "text": [
      "   price_normalized              classify\n",
      "0             760.0  affordable apartment\n",
      "1            2780.0  affordable apartment\n",
      "2            2750.0  affordable apartment\n",
      "3            2249.0  affordable apartment\n",
      "4            2800.0  affordable apartment\n",
      "     location rooms  sqm_m2  price_normalized  trieu_met_vuong  \\\n",
      "0  Binh Chanh  1 PN      38             760.0            20.00   \n",
      "1  Binh Chanh  2 PN      72            2780.0            38.61   \n",
      "2  Binh Chanh  2 PN      72            2750.0            38.19   \n",
      "3  Binh Chanh  2 PN      72            2249.0            31.24   \n",
      "4  Binh Chanh  2 PN      70            2800.0            40.00   \n",
      "\n",
      "   rooms_normalized              classify classify_encoded  location_encoded  \n",
      "0                 1  affordable apartment                0                 0  \n",
      "1                 2  affordable apartment                0                 0  \n",
      "2                 2  affordable apartment                0                 0  \n",
      "3                 2  affordable apartment                0                 0  \n",
      "4                 2  affordable apartment                0                 0  \n"
     ]
    }
   ],
   "source": [
    "# Tạo các nhóm dựa trên khoảng giá\n",
    "bins = [100.0, 5000.0, 10000.0, float('inf')]\n",
    "labels = ['affordable apartment', 'mid-range apartment', 'luxury apartment']\n",
    "\n",
    "# Thêm cột \"classify\" vào DataFrame\n",
    "df['classify'] = pd.cut(df['price_normalized'], bins=bins, labels=labels, right=False)\n",
    "\n",
    "# Kiểm tra nếu cột 'classify' được thêm vào đúng cách\n",
    "print(df[['price_normalized', 'classify']].head())\n",
    "\n",
    "# Mã hóa cột 'classify' thành số nguyên theo thứ tự mong muốn\n",
    "label_mapping = {'affordable apartment': 0, 'mid-range apartment': 1, 'luxury apartment': 2}\n",
    "df['classify_encoded'] = df['classify'].map(label_mapping)\n",
    "\n",
    "# Mã hóa cột 'location' thành số nguyên\n",
    "label_encoder_location = LabelEncoder()\n",
    "df['location_encoded'] = label_encoder_location.fit_transform(df['location'])\n",
    "\n",
    "# Hiển thị DataFrame mới\n",
    "print(df.head())"
   ]
  },
  {
   "cell_type": "markdown",
   "id": "f070a9ee-0944-49f1-9a03-f4160f723767",
   "metadata": {},
   "source": [
    "Tạo mô hình knn và huấn luyện chúng với k = 5\n",
    "Ở đây để lấy được dự đoán được loại chung cư em cần biết:\n",
    "    - location(vị trí của căn hộ)\n",
    "    - rooms_normalized(số phòng)\n",
    "    - sqm_m2(Diện tích căn chung cư)"
   ]
  },
  {
   "cell_type": "code",
   "execution_count": 64,
   "id": "a5835ca7-f1cd-469f-a839-7e6f913d973c",
   "metadata": {},
   "outputs": [
    {
     "data": {
      "text/html": [
       "<style>#sk-container-id-10 {color: black;background-color: white;}#sk-container-id-10 pre{padding: 0;}#sk-container-id-10 div.sk-toggleable {background-color: white;}#sk-container-id-10 label.sk-toggleable__label {cursor: pointer;display: block;width: 100%;margin-bottom: 0;padding: 0.3em;box-sizing: border-box;text-align: center;}#sk-container-id-10 label.sk-toggleable__label-arrow:before {content: \"▸\";float: left;margin-right: 0.25em;color: #696969;}#sk-container-id-10 label.sk-toggleable__label-arrow:hover:before {color: black;}#sk-container-id-10 div.sk-estimator:hover label.sk-toggleable__label-arrow:before {color: black;}#sk-container-id-10 div.sk-toggleable__content {max-height: 0;max-width: 0;overflow: hidden;text-align: left;background-color: #f0f8ff;}#sk-container-id-10 div.sk-toggleable__content pre {margin: 0.2em;color: black;border-radius: 0.25em;background-color: #f0f8ff;}#sk-container-id-10 input.sk-toggleable__control:checked~div.sk-toggleable__content {max-height: 200px;max-width: 100%;overflow: auto;}#sk-container-id-10 input.sk-toggleable__control:checked~label.sk-toggleable__label-arrow:before {content: \"▾\";}#sk-container-id-10 div.sk-estimator input.sk-toggleable__control:checked~label.sk-toggleable__label {background-color: #d4ebff;}#sk-container-id-10 div.sk-label input.sk-toggleable__control:checked~label.sk-toggleable__label {background-color: #d4ebff;}#sk-container-id-10 input.sk-hidden--visually {border: 0;clip: rect(1px 1px 1px 1px);clip: rect(1px, 1px, 1px, 1px);height: 1px;margin: -1px;overflow: hidden;padding: 0;position: absolute;width: 1px;}#sk-container-id-10 div.sk-estimator {font-family: monospace;background-color: #f0f8ff;border: 1px dotted black;border-radius: 0.25em;box-sizing: border-box;margin-bottom: 0.5em;}#sk-container-id-10 div.sk-estimator:hover {background-color: #d4ebff;}#sk-container-id-10 div.sk-parallel-item::after {content: \"\";width: 100%;border-bottom: 1px solid gray;flex-grow: 1;}#sk-container-id-10 div.sk-label:hover label.sk-toggleable__label {background-color: #d4ebff;}#sk-container-id-10 div.sk-serial::before {content: \"\";position: absolute;border-left: 1px solid gray;box-sizing: border-box;top: 0;bottom: 0;left: 50%;z-index: 0;}#sk-container-id-10 div.sk-serial {display: flex;flex-direction: column;align-items: center;background-color: white;padding-right: 0.2em;padding-left: 0.2em;position: relative;}#sk-container-id-10 div.sk-item {position: relative;z-index: 1;}#sk-container-id-10 div.sk-parallel {display: flex;align-items: stretch;justify-content: center;background-color: white;position: relative;}#sk-container-id-10 div.sk-item::before, #sk-container-id-10 div.sk-parallel-item::before {content: \"\";position: absolute;border-left: 1px solid gray;box-sizing: border-box;top: 0;bottom: 0;left: 50%;z-index: -1;}#sk-container-id-10 div.sk-parallel-item {display: flex;flex-direction: column;z-index: 1;position: relative;background-color: white;}#sk-container-id-10 div.sk-parallel-item:first-child::after {align-self: flex-end;width: 50%;}#sk-container-id-10 div.sk-parallel-item:last-child::after {align-self: flex-start;width: 50%;}#sk-container-id-10 div.sk-parallel-item:only-child::after {width: 0;}#sk-container-id-10 div.sk-dashed-wrapped {border: 1px dashed gray;margin: 0 0.4em 0.5em 0.4em;box-sizing: border-box;padding-bottom: 0.4em;background-color: white;}#sk-container-id-10 div.sk-label label {font-family: monospace;font-weight: bold;display: inline-block;line-height: 1.2em;}#sk-container-id-10 div.sk-label-container {text-align: center;}#sk-container-id-10 div.sk-container {/* jupyter's `normalize.less` sets `[hidden] { display: none; }` but bootstrap.min.css set `[hidden] { display: none !important; }` so we also need the `!important` here to be able to override the default hidden behavior on the sphinx rendered scikit-learn.org. See: https://github.com/scikit-learn/scikit-learn/issues/21755 */display: inline-block !important;position: relative;}#sk-container-id-10 div.sk-text-repr-fallback {display: none;}</style><div id=\"sk-container-id-10\" class=\"sk-top-container\"><div class=\"sk-text-repr-fallback\"><pre>KNeighborsClassifier()</pre><b>In a Jupyter environment, please rerun this cell to show the HTML representation or trust the notebook. <br />On GitHub, the HTML representation is unable to render, please try loading this page with nbviewer.org.</b></div><div class=\"sk-container\" hidden><div class=\"sk-item\"><div class=\"sk-estimator sk-toggleable\"><input class=\"sk-toggleable__control sk-hidden--visually\" id=\"sk-estimator-id-10\" type=\"checkbox\" checked><label for=\"sk-estimator-id-10\" class=\"sk-toggleable__label sk-toggleable__label-arrow\">KNeighborsClassifier</label><div class=\"sk-toggleable__content\"><pre>KNeighborsClassifier()</pre></div></div></div></div></div>"
      ],
      "text/plain": [
       "KNeighborsClassifier()"
      ]
     },
     "execution_count": 64,
     "metadata": {},
     "output_type": "execute_result"
    }
   ],
   "source": [
    "# Tạo mô hình KNN với số lượng láng giềng (neighbors) mong muốn\n",
    "k = 5\n",
    "knn_model = KNeighborsClassifier(n_neighbors=k)\n",
    "\n",
    "# Tách dữ liệu thành features và target\n",
    "X = df[['location_encoded', 'rooms_normalized', 'sqm_m2']]  # Chỉ lấy các đặc trưng 'location_encoded', 'rooms_normalized' và 'sqm_m2'\n",
    "y = df['classify_encoded']  # Sử dụng cột 'classify_encoded' làm target\n",
    "\n",
    "# Huấn luyện mô hình\n",
    "knn_model.fit(X, y)"
   ]
  },
  {
   "cell_type": "markdown",
   "id": "3e431109-3665-424b-a337-66a4f6ebc2fe",
   "metadata": {},
   "source": [
    "Sau khi đã huấn luyện mô hình thành công, em sẽ dự đoán 1 căn hộ chung cư với\n",
    "    vị trí: Bình Chánh\n",
    "    số phòng: 2\n",
    "    diện tích: 80"
   ]
  },
  {
   "cell_type": "code",
   "execution_count": 65,
   "id": "7b7dfdc6-2e4b-4180-8e8e-7abc3300dd59",
   "metadata": {},
   "outputs": [
    {
     "name": "stdout",
     "output_type": "stream",
     "text": [
      "Predicted classify: ['affordable apartment']\n"
     ]
    }
   ],
   "source": [
    "# Dự đoán classify của một căn hộ mới\n",
    "new_data = pd.DataFrame({\n",
    "    'location': ['Binh Chanh'],\n",
    "    'rooms_normalized': [2],\n",
    "    'sqm_m2': [80]\n",
    "})\n",
    "\n",
    "# Sử dụng label encoding cho vị trí của căn hộ mới\n",
    "new_data['location_encoded'] = label_encoder_location.transform(new_data['location'])\n",
    "\n",
    "# Chuẩn hóa dữ liệu mới\n",
    "new_data_for_prediction = new_data[['location_encoded', 'rooms_normalized', 'sqm_m2']]\n",
    "\n",
    "# Dự đoán classify của căn hộ mới\n",
    "predicted_classify_encoded = knn_model.predict(new_data_for_prediction)\n",
    "\n",
    "# Chuyển đổi kết quả dự đoán từ mã số phân loại sang nhãn\n",
    "predicted_classify = [key for key, value in label_mapping.items() if value == predicted_classify_encoded[0]]\n",
    "print(\"Predicted classify:\", predicted_classify)"
   ]
  }
 ],
 "metadata": {
  "kernelspec": {
   "display_name": "Python 3 (ipykernel)",
   "language": "python",
   "name": "python3"
  },
  "language_info": {
   "codemirror_mode": {
    "name": "ipython",
    "version": 3
   },
   "file_extension": ".py",
   "mimetype": "text/x-python",
   "name": "python",
   "nbconvert_exporter": "python",
   "pygments_lexer": "ipython3",
   "version": "3.11.7"
  }
 },
 "nbformat": 4,
 "nbformat_minor": 5
}
