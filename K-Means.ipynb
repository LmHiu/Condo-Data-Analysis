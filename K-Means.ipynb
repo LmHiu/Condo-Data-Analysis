{
 "cells": [
  {
   "cell_type": "code",
   "execution_count": 12,
   "id": "6d5050b1-5973-43d0-82f7-942469f49161",
   "metadata": {},
   "outputs": [
    {
     "name": "stdout",
     "output_type": "stream",
     "text": [
      "     location rooms  sqm_m2  price_normalized  trieu_met_vuong  \\\n",
      "0  Binh Chanh  1 PN      38             760.0            20.00   \n",
      "1  Binh Chanh  2 PN      72            2780.0            38.61   \n",
      "2  Binh Chanh  2 PN      72            2750.0            38.19   \n",
      "3  Binh Chanh  2 PN      72            2249.0            31.24   \n",
      "4  Binh Chanh  2 PN      70            2800.0            40.00   \n",
      "\n",
      "   rooms_normalized  \n",
      "0                 1  \n",
      "1                 2  \n",
      "2                 2  \n",
      "3                 2  \n",
      "4                 2  \n"
     ]
    }
   ],
   "source": [
    "import pandas as pd\n",
    "from sklearn.cluster import KMeans\n",
    "from sklearn.preprocessing import LabelEncoder, StandardScaler\n",
    "import os\n",
    "\n",
    "# Đọc dữ liệu\n",
    "df = pd.read_csv('dataProcessed.csv')\n",
    "print(df.head())"
   ]
  },
  {
   "cell_type": "code",
   "execution_count": 14,
   "id": "9676d76e-9258-4bfa-9b10-3652f209e6f7",
   "metadata": {},
   "outputs": [
    {
     "name": "stdout",
     "output_type": "stream",
     "text": [
      "     location rooms    sqm_m2  price_normalized  trieu_met_vuong  \\\n",
      "0  Binh Chanh  1 PN -1.246975             760.0            20.00   \n",
      "1  Binh Chanh  2 PN -0.009419            2780.0            38.61   \n",
      "2  Binh Chanh  2 PN -0.009419            2750.0            38.19   \n",
      "3  Binh Chanh  2 PN -0.009419            2249.0            31.24   \n",
      "4  Binh Chanh  2 PN -0.082217            2800.0            40.00   \n",
      "\n",
      "   rooms_normalized  location_encoded  \n",
      "0         -1.496385         -1.738916  \n",
      "1         -0.121108         -1.738916  \n",
      "2         -0.121108         -1.738916  \n",
      "3         -0.121108         -1.738916  \n",
      "4         -0.121108         -1.738916  \n"
     ]
    }
   ],
   "source": [
    "# Mã hóa cột 'location' thành số nguyên\n",
    "label_encoder_location = LabelEncoder()\n",
    "df['location_encoded'] = label_encoder_location.fit_transform(df['location'])\n",
    "\n",
    "# Chuẩn hóa dữ liệu (scaling) để đưa các đặc trưng về cùng một khoảng giá trị\n",
    "scaler = StandardScaler()\n",
    "df[['location_encoded', 'rooms_normalized', 'sqm_m2']] = scaler.fit_transform(df[['location_encoded', 'rooms_normalized', 'sqm_m2']])\n",
    "\n",
    "# Hiển thị DataFrame mới sau khi mã hóa và chuẩn hóa\n",
    "print(df.head())"
   ]
  },
  {
   "cell_type": "code",
   "execution_count": 17,
   "id": "ffb9fcb3-fbb1-4567-8a3f-0148a60660ba",
   "metadata": {
    "scrolled": true
   },
   "outputs": [
    {
     "name": "stderr",
     "output_type": "stream",
     "text": [
      "C:\\Users\\ASUS\\anaconda3\\Lib\\site-packages\\sklearn\\cluster\\_kmeans.py:1382: UserWarning: KMeans is known to have a memory leak on Windows with MKL, when there are less chunks than available threads. You can avoid it by setting the environment variable OMP_NUM_THREADS=8.\n",
      "  warnings.warn(\n"
     ]
    },
    {
     "name": "stdout",
     "output_type": "stream",
     "text": [
      "     location  rooms_normalized    sqm_m2  cluster\n",
      "0  Binh Chanh         -1.496385 -1.246975        2\n",
      "1  Binh Chanh         -0.121108 -0.009419        2\n",
      "2  Binh Chanh         -0.121108 -0.009419        2\n",
      "3  Binh Chanh         -0.121108 -0.009419        2\n",
      "4  Binh Chanh         -0.121108 -0.082217        2\n"
     ]
    }
   ],
   "source": [
    "# Đặt biến môi trường để giảm số luồng xử lý\n",
    "os.environ['OMP_NUM_THREADS'] = '8'\n",
    "\n",
    "# Khởi tạo mô hình KMeans và xác định số cụm (clusters)\n",
    "k = 3  # Số cụm mong muốn\n",
    "kmeans_model = KMeans(n_clusters=k, random_state=42, n_init=10)\n",
    "\n",
    "# Tách dữ liệu thành features\n",
    "X = df[['location_encoded', 'rooms_normalized', 'sqm_m2']]\n",
    "\n",
    "# Huấn luyện mô hình KMeans\n",
    "kmeans_model.fit(X)\n",
    "\n",
    "# Gán nhãn (label) cụm vào DataFrame\n",
    "df['cluster'] = kmeans_model.labels_\n",
    "\n",
    "# Hiển thị DataFrame mới với nhãn cụm\n",
    "print(df[['location', 'rooms_normalized', 'sqm_m2', 'cluster']].head())"
   ]
  },
  {
   "cell_type": "code",
   "execution_count": 18,
   "id": "7fcd34d9-91d0-4f2b-a8fa-7d9e83479191",
   "metadata": {},
   "outputs": [
    {
     "name": "stdout",
     "output_type": "stream",
     "text": [
      "Predicted cluster: [2]\n"
     ]
    }
   ],
   "source": [
    "# Dự đoán cụm của một căn hộ mới\n",
    "new_data = pd.DataFrame({\n",
    "    'location': ['Binh Chanh'],\n",
    "    'rooms_normalized': [2],\n",
    "    'sqm_m2': [80]\n",
    "})\n",
    "\n",
    "# Sử dụng label encoding cho vị trí của căn hộ mới\n",
    "new_data['location_encoded'] = label_encoder_location.transform(new_data['location'])\n",
    "\n",
    "# Chuẩn hóa dữ liệu mới\n",
    "new_data[['location_encoded', 'rooms_normalized', 'sqm_m2']] = scaler.transform(new_data[['location_encoded', 'rooms_normalized', 'sqm_m2']])\n",
    "\n",
    "# Dự đoán cụm của căn hộ mới\n",
    "predicted_cluster = kmeans_model.predict(new_data[['location_encoded', 'rooms_normalized', 'sqm_m2']])\n",
    "print(\"Predicted cluster:\", predicted_cluster)"
   ]
  },
  {
   "cell_type": "code",
   "execution_count": null,
   "id": "0b91e4e3-04ef-4821-af88-7718e85de4e1",
   "metadata": {},
   "outputs": [],
   "source": []
  }
 ],
 "metadata": {
  "kernelspec": {
   "display_name": "Python 3 (ipykernel)",
   "language": "python",
   "name": "python3"
  },
  "language_info": {
   "codemirror_mode": {
    "name": "ipython",
    "version": 3
   },
   "file_extension": ".py",
   "mimetype": "text/x-python",
   "name": "python",
   "nbconvert_exporter": "python",
   "pygments_lexer": "ipython3",
   "version": "3.11.7"
  }
 },
 "nbformat": 4,
 "nbformat_minor": 5
}
